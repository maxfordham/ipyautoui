{
 "cells": [
  {
   "cell_type": "markdown",
   "id": "ecc7e43a",
   "metadata": {
    "tags": []
   },
   "source": [
    "# AutoUi"
   ]
  },
  {
   "cell_type": "markdown",
   "id": "aa67ab0e",
   "metadata": {},
   "source": [
    "With ipyautoui we can create ipywidgets from either a **json-schema** or a **pydantic model**. This makes it quick and easy to whip up a user interface when required."
   ]
  },
  {
   "cell_type": "code",
   "execution_count": 1,
   "id": "c8630081",
   "metadata": {
    "editable": true,
    "slideshow": {
     "slide_type": ""
    },
    "tags": []
   },
   "outputs": [],
   "source": [
    "from ipyautoui import AutoUi\n",
    "import json\n",
    "from pydantic import BaseModel, Field\n",
    "from ipyautoui.constants import DIR_MODULE\n",
    "from ipyautoui._utils import display_pydantic_json\n",
    "import ipyautoui\n",
    "import ipywidgets as w"
   ]
  },
  {
   "cell_type": "markdown",
   "id": "21a44310",
   "metadata": {},
   "source": [
    "### Creating Simple Widget"
   ]
  },
  {
   "cell_type": "code",
   "execution_count": 2,
   "id": "80057991",
   "metadata": {
    "tags": []
   },
   "outputs": [],
   "source": [
    "from ipyautoui.demo_schemas import (\n",
    "    CoreIpywidgets,\n",
    ")  # the schema shown in the file above"
   ]
  },
  {
   "cell_type": "markdown",
   "id": "89a3984e",
   "metadata": {},
   "source": [
    "So let's create a simple pydantic class. Here we have one text field."
   ]
  },
  {
   "cell_type": "code",
   "execution_count": 3,
   "id": "b0cb559e",
   "metadata": {
    "tags": []
   },
   "outputs": [
    {
     "data": {
      "application/vnd.jupyter.widget-view+json": {
       "model_id": "48935df98fb8461d8ebdc7c24d162b9f",
       "version_major": 2,
       "version_minor": 0
      },
      "text/plain": [
       "AutoUi(children=(SaveButtonBar(children=(ToggleButton(value=False, button_style='success', disabled=True, icon…"
      ]
     },
     "metadata": {},
     "output_type": "display_data"
    }
   ],
   "source": [
    "# create a pydantic model (or a json-schema) defining the fields of interest\n",
    "from pydantic import BaseModel, Field, model_validator\n",
    "import pathlib\n",
    "import typing as ty\n",
    "from enum import Enum\n",
    "\n",
    "class My(Enum):\n",
    "    a= \"a\"\n",
    "    b= \"b\"\n",
    "\n",
    "\n",
    "class Sub(BaseModel):\n",
    "    a: str = \"a\"\n",
    "    b: int = 1\n",
    "\n",
    "\n",
    "class Example(BaseModel):\n",
    "    text: str = Field(default=\"Test\", description=\"This description is very important\")\n",
    "    inty: int = 1\n",
    "    sub: Sub\n",
    "    nu: ty.Optional[str] = None\n",
    "    my: My\n",
    "\n",
    "\n",
    "data = {\"text\": \"this is a value\"}\n",
    "ui = AutoUi(\n",
    "    schema=Example,\n",
    "    path=pathlib.Path(\"test.ui.json\"),\n",
    "    show_savebuttonbar=True,\n",
    ")\n",
    "display(ui)"
   ]
  },
  {
   "cell_type": "code",
   "execution_count": 4,
   "id": "c453d59d-7ffb-4324-bbce-208918580242",
   "metadata": {},
   "outputs": [],
   "source": [
    "# update the `value` of the form as you would any other ipywidget\n",
    "ui.value = {'text': 'Test upates', 'inty': 1, 'sub': {'a': 'asdf', 'b': 3}, 'nu': \"not None\", 'my': 'b'}"
   ]
  },
  {
   "cell_type": "markdown",
   "id": "c63abd60-9bc5-4d1d-8d48-5768ba723f95",
   "metadata": {},
   "source": [
    "## Updating the model\n",
    "\n",
    "Minor changes to the model can be made. The keys and resulting widgets must remain the same, but the attributes that define them can change (i.e. descriptions, the options of Dropdown, limits of an integer etc.).\n",
    "You can also add validation logic in this way. This is to support the edge case where the parameters of a form must remain the same but the allowed values can change.\n"
   ]
  },
  {
   "cell_type": "code",
   "execution_count": 6,
   "id": "a7badc35-2e88-4eb4-b818-bbafd2c972ba",
   "metadata": {},
   "outputs": [],
   "source": [
    "class New(Enum):\n",
    "    \"asdfal;ksdfj\"\n",
    "    c = 1\n",
    "    d = 2\n",
    "    \n",
    "class Example2(BaseModel):\n",
    "    text: str = Field(default=\"Test\", description=\"This description is very important\")\n",
    "    inty: int = Field(default=4, description=\"This integer is very important\")\n",
    "    sub: Sub\n",
    "    nu: ty.Optional[str] = None\n",
    "    my: New\n",
    "\n",
    "    @model_validator(mode='after')\n",
    "    def v(self):\n",
    "        self.text = \"custom validation stuff...\"\n",
    "        return self\n",
    "    \n",
    "\n",
    "ui.model = Example2"
   ]
  },
  {
   "cell_type": "code",
   "execution_count": 7,
   "id": "753610d3-9b38-4532-b1a5-8a65d0dad45f",
   "metadata": {},
   "outputs": [
    {
     "data": {
      "text/plain": [
       "{'text': 'custom validation stuff...',\n",
       " 'inty': 1,\n",
       " 'sub': {'a': 'asdf', 'b': 3},\n",
       " 'nu': 'not None',\n",
       " 'my': 1}"
      ]
     },
     "execution_count": 7,
     "metadata": {},
     "output_type": "execute_result"
    }
   ],
   "source": [
    "ui.value"
   ]
  },
  {
   "cell_type": "code",
   "execution_count": 10,
   "id": "a55699cd-6652-4dfc-a9c7-5d30da391086",
   "metadata": {},
   "outputs": [
    {
     "data": {
      "text/plain": [
       "{'text': 'Test', 'inty': 4, 'sub': {'a': 'asdf', 'b': 3}, 'nu': None, 'my': 1}"
      ]
     },
     "execution_count": 10,
     "metadata": {},
     "output_type": "execute_result"
    }
   ],
   "source": [
    "ui.di_widgets_value"
   ]
  },
  {
   "cell_type": "markdown",
   "id": "1cdece51-f68d-44a2-a94f-7cc894751069",
   "metadata": {},
   "source": [
    "Wholesale updates of the model are not allowed."
   ]
  },
  {
   "cell_type": "code",
   "execution_count": 6,
   "id": "7ae492d8-57a2-4c40-ad29-4795fce62a41",
   "metadata": {},
   "outputs": [
    {
     "name": "stderr",
     "output_type": "stream",
     "text": [
      "WARNING:ipyautoui.autoobject:widgets must match on schema change. changes intended for modifications of existing widgets only.\n"
     ]
    }
   ],
   "source": [
    "# this will fail as the model is completely different. \n",
    "# in this case you just want to new AutoUi object. \n",
    "try:\n",
    "    ui.model = Sub\n",
    "except Exception as e:\n",
    "    print(e)"
   ]
  },
  {
   "cell_type": "code",
   "execution_count": 5,
   "id": "e96d31bc-ac0f-43ff-a393-80f7805ae7a0",
   "metadata": {},
   "outputs": [
    {
     "name": "stderr",
     "output_type": "stream",
     "text": [
      "widgets must match on schema change. changes intended for modifications of existing widgets only.\n"
     ]
    }
   ],
   "source": [
    "# this will fail as the widgets that define the model need to change\n",
    "# as `inty` has changed from an `int` to a `str`\n",
    "class Example1(BaseModel):\n",
    "    text: str = Field(default=\"Test\", description=\"This description is very important\")\n",
    "    inty: str = \"1\"\n",
    "    sub: Sub\n",
    "    nu: ty.Optional[str] = None\n",
    "    my: My\n",
    "\n",
    "try:\n",
    "    ui.model = Example1\n",
    "except Exception as e:\n",
    "    print(e)"
   ]
  },
  {
   "cell_type": "code",
   "execution_count": 6,
   "id": "8d33b687-de7f-4d96-8270-9ea3c40e05e8",
   "metadata": {},
   "outputs": [],
   "source": [
    "\n"
   ]
  },
  {
   "cell_type": "code",
   "execution_count": 8,
   "id": "62bd57a2-0829-46ea-b403-d31a5691e5f6",
   "metadata": {},
   "outputs": [],
   "source": [
    "ui.di_widgets['my'].options = [1,2,3]"
   ]
  },
  {
   "cell_type": "code",
   "execution_count": 5,
   "id": "7d96cce8-a0a8-46f3-872e-82ff874e1364",
   "metadata": {},
   "outputs": [
    {
     "data": {
      "application/vnd.jupyter.widget-view+json": {
       "model_id": "d4fc42a451c84462a4b1044d8702003e",
       "version_major": 2,
       "version_minor": 0
      },
      "text/plain": [
       "AutoObjectForm(children=(HBox(children=(ToggleButton(value=False, icon='plus', layout=Layout(display='', width…"
      ]
     },
     "execution_count": 5,
     "metadata": {},
     "output_type": "execute_result"
    }
   ],
   "source": [
    "from ipyautoui.autoobject import AutoObjectForm\n",
    "\n",
    "AutoObjectForm.from_jsonschema(schema=Example.model_json_schema())"
   ]
  },
  {
   "cell_type": "code",
   "execution_count": null,
   "id": "e1f990e7-ef47-48ca-9da3-c940a02ac5c1",
   "metadata": {
    "tags": []
   },
   "outputs": [],
   "source": [
    "from ipyautoui.basemodel import file\n",
    "\n",
    "file(Example(), pathlib.Path(\"test.json\"))"
   ]
  },
  {
   "cell_type": "markdown",
   "id": "9e97be5c",
   "metadata": {
    "tags": []
   },
   "source": [
    "### Writing to JSON"
   ]
  },
  {
   "cell_type": "markdown",
   "id": "c6d93fb4",
   "metadata": {},
   "source": [
    "Let's define the save location."
   ]
  },
  {
   "cell_type": "code",
   "execution_count": null,
   "id": "ce2e69e0",
   "metadata": {
    "tags": []
   },
   "outputs": [],
   "source": [
    "import pathlib\n",
    "\n",
    "save_path = pathlib.Path(\".\") / \"test.simpleaui.json\"\n",
    "print(f\"Save Location is: {save_path}\")"
   ]
  },
  {
   "cell_type": "code",
   "execution_count": null,
   "id": "b4c3a453",
   "metadata": {
    "tags": []
   },
   "outputs": [],
   "source": [
    "ui.file(path=save_path)\n",
    "AutoUiRenderer = AutoUi.create_autoui_renderer(schema=Example)\n",
    "\n",
    "ui_simple = AutoUiRenderer(path=save_path)\n",
    "\n",
    "\n",
    "def test_action():\n",
    "    print(\"done\")\n",
    "\n",
    "\n",
    "ui_simple.savebuttonbar.fns_onsave_add_action(test_action)\n",
    "ui_simple.show_savebuttonbar = True\n",
    "display(ui_simple)"
   ]
  },
  {
   "cell_type": "code",
   "execution_count": null,
   "id": "1d546f3e-1ce8-413e-96c5-50e3cfc3de49",
   "metadata": {},
   "outputs": [],
   "source": [
    "import typing as ty\n",
    "import ipywidgets as w\n",
    "\n",
    "\n",
    "class DataFrameCols(BaseModel):\n",
    "    string: str = Field(\"string\", json_schema_extra=dict(column_width=100))\n",
    "    integer: int = Field(1, json_schema_extra=dict(column_width=80))\n",
    "    floater: float = Field(3.1415, json_schema_extra=dict(column_width=70, global_decimal_places=3))\n",
    "    something_else: float = Field(324, json_schema_extra=dict(column_width=100))\n",
    "\n",
    "\n",
    "class TestDataFrame(BaseModel):\n",
    "    \"\"\"a description of TestDataFrame\"\"\"\n",
    "\n",
    "    dataframe: ty.List[DataFrameCols] = Field(json_schema_extra=dict(format=\"dataframe\"))"
   ]
  },
  {
   "cell_type": "code",
   "execution_count": null,
   "id": "01ff66c3-36e3-42b5-a0b1-942991b84b35",
   "metadata": {},
   "outputs": [],
   "source": [
    "auto_grid = AutoUi(schema=TestDataFrame, show_nested=True)\n",
    "display(auto_grid)"
   ]
  },
  {
   "cell_type": "code",
   "execution_count": null,
   "id": "213647db-a6ee-42e5-8afa-19a5336fe070",
   "metadata": {},
   "outputs": [],
   "source": [
    "auto_grid.value = {\n",
    "    \"dataframe\": [\n",
    "        {\n",
    "            \"string\": \"important string\",\n",
    "            \"integer\": 1,\n",
    "            \"floater\": 3.14,\n",
    "            \"something_else\": 324,\n",
    "        },\n",
    "        {\"string\": \"update\", \"integer\": 4, \"floater\": 3.12344, \"something_else\": 123},\n",
    "        {\"string\": \"evening\", \"integer\": 5, \"floater\": 3.14, \"something_else\": 235},\n",
    "        {\"string\": \"morning\", \"integer\": 5, \"floater\": 3.14, \"something_else\": 12},\n",
    "        {\"string\": \"number\", \"integer\": 3, \"floater\": 3.14, \"something_else\": 123},\n",
    "    ]\n",
    "}"
   ]
  },
  {
   "cell_type": "code",
   "execution_count": null,
   "id": "128c4dcd-33f0-4ea6-811b-577fb99a729d",
   "metadata": {
    "tags": []
   },
   "outputs": [],
   "source": [
    "from pydantic import BaseModel, Field\n",
    "from ipyautoui.custom.fileupload import AutoUploadPaths\n",
    "from ipyautoui.autoobject import AutoObject\n",
    "import pathlib\n",
    "\n",
    "\n",
    "class Test(BaseModel):\n",
    "    paths: list[pathlib.Path] = Field(\n",
    "        json_schema_extra=dict(autoui=\"ipyautoui.custom.fileupload.AutoUploadPaths\")\n",
    "    )\n",
    "    a: str\n",
    "\n",
    "    class Config:\n",
    "        schema_extra = {\n",
    "            \"json_schema_extra\": [\"ipyautoui.custom.fileupload.AutoUploadPaths\"]\n",
    "        }\n",
    "\n",
    "\n",
    "aui = AutoUi(Test)  # , nested_widgets=[AutoUploadPaths]\n",
    "aui"
   ]
  },
  {
   "cell_type": "code",
   "execution_count": null,
   "id": "29b39d9c-2a35-4c05-894c-3943b9166ca5",
   "metadata": {},
   "outputs": [],
   "source": [
    "from ipyautoui import AutoUi\n",
    "from ipyautoui.demo_schemas import NestedEditableGrid\n",
    "\n",
    "ui = AutoUi(NestedEditableGrid)\n",
    "ui"
   ]
  },
  {
   "cell_type": "code",
   "execution_count": null,
   "id": "6db190e6-2c5c-45a3-b014-c9522ca8f5a9",
   "metadata": {},
   "outputs": [],
   "source": []
  }
 ],
 "metadata": {
  "kernelspec": {
   "display_name": "Python 3 (ipykernel)",
   "language": "python",
   "name": "python3"
  },
  "language_info": {
   "codemirror_mode": {
    "name": "ipython",
    "version": 3
   },
   "file_extension": ".py",
   "mimetype": "text/x-python",
   "name": "python",
   "nbconvert_exporter": "python",
   "pygments_lexer": "ipython3",
   "version": "3.13.1"
  },
  "vscode": {
   "interpreter": {
    "hash": "2945cf1448f5962318cd8d4564004b5e22175de685c8c5e6d8925611c08f83bc"
   }
  }
 },
 "nbformat": 4,
 "nbformat_minor": 5
}
