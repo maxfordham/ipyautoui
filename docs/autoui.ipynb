{
 "cells": [
  {
   "cell_type": "markdown",
   "id": "ecc7e43a",
   "metadata": {
    "tags": []
   },
   "source": [
    "# AutoUi"
   ]
  },
  {
   "cell_type": "markdown",
   "id": "aa67ab0e",
   "metadata": {},
   "source": [
    "With ipyautoui we can create ipywidgets from either a **json-schema** or a **pydantic model**. This makes it quick and easy to whip up a user interface when required."
   ]
  },
  {
   "cell_type": "code",
   "execution_count": 1,
   "id": "c8630081",
   "metadata": {
    "editable": true,
    "slideshow": {
     "slide_type": ""
    },
    "tags": []
   },
   "outputs": [
    {
     "name": "stderr",
     "output_type": "stream",
     "text": [
      "for maplocal to load openpath and runcmd callable, maplocal_example.py must exist with functions `openpath` and `runcmd`\n"
     ]
    }
   ],
   "source": [
    "from ipyautoui import AutoUi\n",
    "import json\n",
    "from pydantic import BaseModel, Field\n",
    "from ipyautoui.constants import DIR_MODULE\n",
    "from ipyautoui._utils import display_pydantic_json\n",
    "import ipyautoui\n",
    "import ipywidgets as w"
   ]
  },
  {
   "cell_type": "markdown",
   "id": "21a44310",
   "metadata": {},
   "source": [
    "### Creating Simple Widget"
   ]
  },
  {
   "cell_type": "code",
   "execution_count": 2,
   "id": "80057991",
   "metadata": {
    "tags": []
   },
   "outputs": [],
   "source": [
    "from ipyautoui.demo_schemas import (\n",
    "    CoreIpywidgets,\n",
    ")  # the schema shown in the file above"
   ]
  },
  {
   "cell_type": "code",
   "execution_count": 3,
   "id": "97a332a2-e007-44d7-a4c1-421946b606a5",
   "metadata": {},
   "outputs": [],
   "source": [
    "from ipyautoui.autoobject import AutoObject"
   ]
  },
  {
   "cell_type": "markdown",
   "id": "89a3984e",
   "metadata": {},
   "source": [
    "So let's create a simple pydantic class. Here we have one text field."
   ]
  },
  {
   "cell_type": "code",
   "execution_count": 10,
   "id": "b0cb559e",
   "metadata": {
    "tags": []
   },
   "outputs": [
    {
     "data": {
      "application/vnd.jupyter.widget-view+json": {
       "model_id": "b54fbb202f8a499abf5e384339c2f3be",
       "version_major": 2,
       "version_minor": 0
      },
      "text/plain": [
       "AutoUi(children=(SaveButtonBar(children=(ToggleButton(value=False, button_style='success', disabled=True, icon…"
      ]
     },
     "metadata": {},
     "output_type": "display_data"
    }
   ],
   "source": [
    "# create a pydantic model (or a json-schema) defining the fields of interest\n",
    "from pydantic import BaseModel, Field, model_validator, ConfigDict\n",
    "import pathlib\n",
    "import typing as ty\n",
    "from enum import Enum\n",
    "\n",
    "class My(Enum):\n",
    "    a= \"a\"\n",
    "    b= \"b\"\n",
    "\n",
    "\n",
    "class Sub(BaseModel):\n",
    "    a: str = \"a\"\n",
    "    b: int = 1\n",
    "\n",
    "\n",
    "class Example(BaseModel):\n",
    "    text: str = Field(default=\"Test\", description=\"This description is very important\")\n",
    "    inty: int = 1\n",
    "    sub: Sub\n",
    "    nu: ty.Optional[str] = None\n",
    "    my: My\n",
    "\n",
    "\n",
    "data = {\"text\": \"this is a value\"}\n",
    "ui = AutoUi(\n",
    "    schema=Example,\n",
    "    path=pathlib.Path(\"test.ui.json\"),\n",
    "    show_savebuttonbar=True,\n",
    ")\n",
    "display(ui)"
   ]
  },
  {
   "cell_type": "markdown",
   "id": "812c6709-c3a5-488f-8da7-b3f51151ecf2",
   "metadata": {},
   "source": [
    "update the `value` of the form as you would any other ipywidget"
   ]
  },
  {
   "cell_type": "code",
   "execution_count": 11,
   "id": "c453d59d-7ffb-4324-bbce-208918580242",
   "metadata": {},
   "outputs": [],
   "source": [
    "# \n",
    "ui.value = {'text': 'Test upates', 'inty': 1, 'sub': {'a': 'asdf', 'b': 3}, 'nu': \"not None\", 'my': 'b'}"
   ]
  },
  {
   "cell_type": "markdown",
   "id": "c63abd60-9bc5-4d1d-8d48-5768ba723f95",
   "metadata": {},
   "source": [
    "## Updating the model / schema\n",
    "\n",
    "Minor changes to the model can be made. The keys and resulting widgets must remain the same, but the attributes that define them can change (i.e. descriptions, the options of Dropdown, limits of an integer etc.).\n",
    "You can also add validation logic in this way. This is to support the edge case where the parameters of a form must remain the same but the allowed values and other customisations can change.\n"
   ]
  },
  {
   "cell_type": "code",
   "execution_count": 12,
   "id": "a7badc35-2e88-4eb4-b818-bbafd2c972ba",
   "metadata": {},
   "outputs": [],
   "source": [
    "class New(Enum):\n",
    "    \"asdfal;ksdfj\"\n",
    "    c = 1\n",
    "    d = 2\n",
    "    \n",
    "class Example2(BaseModel):\n",
    "    \"\"\"some updated description\"\"\"\n",
    "    text: str = Field(default=\"Test\", description=\"This description is very important\")\n",
    "    inty: int = Field(default=4, description=\"This integer is very important\")\n",
    "    sub: Sub\n",
    "    nu: ty.Optional[str] = None\n",
    "    my: New\n",
    "\n",
    "    @model_validator(mode='after')\n",
    "    def v(self):\n",
    "        self.text = \"custom validation stuff...\"\n",
    "        return self\n",
    "\n",
    "    model_config = ConfigDict(json_schema_extra=dict(show_raw=True))\n",
    "\n",
    "\n",
    "ui.update_model(Example2)"
   ]
  },
  {
   "cell_type": "markdown",
   "id": "1cdece51-f68d-44a2-a94f-7cc894751069",
   "metadata": {},
   "source": [
    "Wholesale updates of the model are not allowed."
   ]
  },
  {
   "cell_type": "code",
   "execution_count": 13,
   "id": "7ae492d8-57a2-4c40-ad29-4795fce62a41",
   "metadata": {},
   "outputs": [
    {
     "name": "stdout",
     "output_type": "stream",
     "text": [
      "widgets must match on schema change. changes intended for modifications of existing widgets only.\n"
     ]
    }
   ],
   "source": [
    "# this will fail as the model is completely different. \n",
    "# in this case you just want to new AutoUi object. \n",
    "try:\n",
    "    ui.update_model(Sub)\n",
    "except Exception as e:\n",
    "    print(e)"
   ]
  },
  {
   "cell_type": "code",
   "execution_count": 14,
   "id": "e96d31bc-ac0f-43ff-a393-80f7805ae7a0",
   "metadata": {},
   "outputs": [
    {
     "name": "stdout",
     "output_type": "stream",
     "text": [
      "widgets must match on schema change. changes intended for modifications of existing widgets only.\n"
     ]
    }
   ],
   "source": [
    "# this will fail as the widgets that define the model need to change\n",
    "# as `inty` has changed from an `int` to a `str`\n",
    "class Example1(BaseModel):\n",
    "    text: str = Field(default=\"Test\", description=\"This description is very important\")\n",
    "    inty: str = \"1\"\n",
    "    sub: Sub\n",
    "    nu: ty.Optional[str] = None\n",
    "    my: My\n",
    "\n",
    "try:\n",
    "    ui.update_model(Example1)\n",
    "except Exception as e:\n",
    "    print(e)"
   ]
  },
  {
   "cell_type": "code",
   "execution_count": null,
   "id": "254c4286-190e-4d46-84d0-333cdcb4f0f5",
   "metadata": {},
   "outputs": [],
   "source": []
  },
  {
   "cell_type": "code",
   "execution_count": null,
   "id": "bdad4302-50f4-42d7-8567-4c5e30a0c3dc",
   "metadata": {},
   "outputs": [],
   "source": []
  },
  {
   "cell_type": "code",
   "execution_count": null,
   "id": "adc58a15-f267-43c6-990a-ef49d6548ab8",
   "metadata": {},
   "outputs": [],
   "source": []
  }
 ],
 "metadata": {
  "kernelspec": {
   "display_name": "Python 3 (ipykernel)",
   "language": "python",
   "name": "python3"
  },
  "language_info": {
   "codemirror_mode": {
    "name": "ipython",
    "version": 3
   },
   "file_extension": ".py",
   "mimetype": "text/x-python",
   "name": "python",
   "nbconvert_exporter": "python",
   "pygments_lexer": "ipython3",
   "version": "3.13.1"
  },
  "vscode": {
   "interpreter": {
    "hash": "2945cf1448f5962318cd8d4564004b5e22175de685c8c5e6d8925611c08f83bc"
   }
  }
 },
 "nbformat": 4,
 "nbformat_minor": 5
}
