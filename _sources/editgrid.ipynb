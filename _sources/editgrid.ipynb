{
 "cells": [
  {
   "cell_type": "markdown",
   "id": "6e8a319c-087b-435e-8cbd-1f4e593b728b",
   "metadata": {},
   "source": [
    "# Edit Grid"
   ]
  },
  {
   "cell_type": "code",
   "execution_count": 1,
   "id": "d033ad47-b6b3-46b1-84ef-8a7a9c40fe18",
   "metadata": {
    "editable": true,
    "slideshow": {
     "slide_type": ""
    },
    "tags": [
     "remove-cell"
    ]
   },
   "outputs": [],
   "source": [
    "%run __init__.py"
   ]
  },
  {
   "cell_type": "code",
   "execution_count": 2,
   "id": "dcd2cbe9-ec3e-47d2-b41c-391b606cdf42",
   "metadata": {
    "editable": true,
    "slideshow": {
     "slide_type": ""
    },
    "tags": []
   },
   "outputs": [],
   "source": [
    "import typing as ty\n",
    "from pydantic import BaseModel, Field, RootModel\n",
    "from ipyautoui import AutoUi\n",
    "\n",
    "\n",
    "class DataFrameCols(BaseModel):\n",
    "    string: str = Field(\"string\", column_width=100)\n",
    "    integer: int = Field(1, column_width=80)\n",
    "    floater: float = Field(3.1415, column_width=70, global_decimal_places=3)\n",
    "    something_else: float = Field(324, column_width=100)\n",
    "\n",
    "\n",
    "class TestDataFrame(BaseModel):\n",
    "    \"\"\"a description of TestDataFrame\"\"\"\n",
    "    a: str\n",
    "    df: ty.List[DataFrameCols] = Field([DataFrameCols().model_dump(mode=\"json\")], format=\"dataframe\")\n",
    "       "
   ]
  },
  {
   "cell_type": "code",
   "execution_count": 3,
   "id": "880ed5c0-6c79-47e4-8f0e-1cfcd74a63f0",
   "metadata": {
    "editable": true,
    "slideshow": {
     "slide_type": ""
    },
    "tags": []
   },
   "outputs": [
    {
     "data": {
      "application/vnd.jupyter.widget-view+json": {
       "model_id": "d4691db8f51b4cc28f9511821ee32998",
       "version_major": 2,
       "version_minor": 0
      },
      "text/plain": [
       "AutoUi(children=(SaveButtonBar(children=(ToggleButton(value=True, button_style='danger', disabled=True, icon='…"
      ]
     },
     "metadata": {},
     "output_type": "display_data"
    }
   ],
   "source": [
    "auto_grid = AutoUi(schema=TestDataFrame)\n",
    "display(auto_grid)"
   ]
  },
  {
   "cell_type": "code",
   "execution_count": 8,
   "id": "5c4ac8e3-0518-40cf-92e7-0a7845c6bc96",
   "metadata": {},
   "outputs": [
    {
     "data": {
      "application/vnd.jupyter.widget-view+json": {
       "model_id": "a4faf1322c844ef891df466d30c623d6",
       "version_major": 2,
       "version_minor": 0
      },
      "text/plain": [
       "EditGrid(children=(HTML(value=''), CrudButtonBar(children=(ToggleButton(value=False, button_style='success', i…"
      ]
     },
     "execution_count": 8,
     "metadata": {},
     "output_type": "execute_result"
    }
   ],
   "source": [
    "from ipyautoui.custom.editgrid import EditGrid\n",
    "class TestDataFrame(RootModel):\n",
    "    \"\"\"a description of TestDataFrame\"\"\"\n",
    "\n",
    "    root: ty.List[DataFrameCols] = Field(format=\"dataframe\")\n",
    "auto_grid = EditGrid(schema=TestDataFrame)\n",
    "auto_grid"
   ]
  },
  {
   "cell_type": "code",
   "execution_count": 9,
   "id": "20410d98-5451-42d6-bba7-601e15d26d72",
   "metadata": {
    "editable": true,
    "slideshow": {
     "slide_type": ""
    },
    "tags": []
   },
   "outputs": [],
   "source": [
    "auto_grid.value =  [\n",
    "        {\n",
    "            \"string\": \"important string\",\n",
    "            \"integer\": 1,\n",
    "            \"floater\": 3.14,\n",
    "            \"something_else\": 324,\n",
    "        },\n",
    "        {\"string\": \"update\", \"integer\": 4, \"floater\": 3.12344, \"something_else\": 123},\n",
    "        {\"string\": \"evening\", \"integer\": 5, \"floater\": 3.14, \"something_else\": 235},\n",
    "        {\"string\": \"morning\", \"integer\": 5, \"floater\": 3.14, \"something_else\": 12},\n",
    "        {\"string\": \"number\", \"integer\": 3, \"floater\": 3.14, \"something_else\": 123},\n",
    "    ]"
   ]
  },
  {
   "cell_type": "code",
   "execution_count": 6,
   "id": "3426e3da-306c-4a28-a848-a86fe7aa06e0",
   "metadata": {},
   "outputs": [
    {
     "name": "stdout",
     "output_type": "stream",
     "text": [
      "<class '__main__.Sub'>\n",
      "<class '__main__.Sub'>\n"
     ]
    }
   ],
   "source": [
    "# Row Validation (WIP)\n",
    "\n",
    "from pydantic import RootModel\n",
    "\n",
    "\n",
    "class Sub(BaseModel):\n",
    "    a: str = \"a\"\n",
    "    b: int = 1\n",
    "\n",
    "\n",
    "class Table(RootModel):\n",
    "    root: list[Sub]\n",
    "\n",
    "\n",
    "class NestedTable(BaseModel):\n",
    "    table: list[Sub]\n",
    "\n",
    "\n",
    "# for simple root tables it is simple to extract the pydantic model for the row\n",
    "RowSchema = Table.__pydantic_core_schema__[\"schema\"][\"items_schema\"][\"cls\"]\n",
    "print(RowSchema)\n",
    "\n",
    "# more difficult for nested rows\n",
    "NestedRowSchema = NestedTable.__pydantic_core_schema__[\"schema\"][\"fields\"][\"table\"][\n",
    "    \"schema\"\n",
    "][\"items_schema\"][\"cls\"]\n",
    "print(NestedRowSchema)"
   ]
  },
  {
   "cell_type": "code",
   "execution_count": null,
   "id": "6e3efbd4-602c-42ee-95ae-72e07cb25b17",
   "metadata": {},
   "outputs": [],
   "source": []
  }
 ],
 "metadata": {
  "kernelspec": {
   "display_name": "Python 3 (ipykernel)",
   "language": "python",
   "name": "python3"
  },
  "language_info": {
   "codemirror_mode": {
    "name": "ipython",
    "version": 3
   },
   "file_extension": ".py",
   "mimetype": "text/x-python",
   "name": "python",
   "nbconvert_exporter": "python",
   "pygments_lexer": "ipython3",
   "version": "3.11.5"
  }
 },
 "nbformat": 4,
 "nbformat_minor": 5
}
