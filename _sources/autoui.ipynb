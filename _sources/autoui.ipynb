{
 "cells": [
  {
   "cell_type": "code",
   "execution_count": 1,
   "id": "7ba8c00d",
   "metadata": {
    "editable": true,
    "slideshow": {
     "slide_type": ""
    },
    "tags": [
     "remove-cell"
    ]
   },
   "outputs": [],
   "source": [
    "%load_ext lab_black"
   ]
  },
  {
   "cell_type": "markdown",
   "id": "ecc7e43a",
   "metadata": {
    "tags": []
   },
   "source": [
    "# AutoUi"
   ]
  },
  {
   "cell_type": "markdown",
   "id": "aa67ab0e",
   "metadata": {},
   "source": [
    "With ipyautoui we can create ipywidgets from either a **json-schema** or a **pydantic model**. This makes it quick and easy to whip up a user interface when required."
   ]
  },
  {
   "cell_type": "code",
   "execution_count": 2,
   "id": "c8630081",
   "metadata": {
    "editable": true,
    "slideshow": {
     "slide_type": ""
    },
    "tags": []
   },
   "outputs": [],
   "source": [
    "from ipyautoui import AutoUi\n",
    "import json\n",
    "from pydantic import BaseModel, Field\n",
    "from ipyautoui.constants import DIR_MODULE\n",
    "from ipyautoui._utils import display_pydantic_json\n",
    "import ipyautoui\n",
    "import ipywidgets as w"
   ]
  },
  {
   "cell_type": "markdown",
   "id": "21a44310",
   "metadata": {},
   "source": [
    "### Creating Simple Widget"
   ]
  },
  {
   "cell_type": "code",
   "execution_count": 3,
   "id": "80057991",
   "metadata": {
    "tags": []
   },
   "outputs": [],
   "source": [
    "from ipyautoui.demo_schemas import (\n",
    "    CoreIpywidgets,\n",
    ")  # the schema shown in the file above"
   ]
  },
  {
   "cell_type": "markdown",
   "id": "89a3984e",
   "metadata": {},
   "source": [
    "So let's create a simple pydantic class. Here we have one text field."
   ]
  },
  {
   "cell_type": "code",
   "execution_count": 7,
   "id": "b0cb559e",
   "metadata": {
    "tags": []
   },
   "outputs": [
    {
     "data": {
      "application/vnd.jupyter.widget-view+json": {
       "model_id": "b40f64587fd84b4f98e30aedd2d5e5b4",
       "version_major": 2,
       "version_minor": 0
      },
      "text/plain": [
       "AutoUi(children=(SaveButtonBar(children=(ToggleButton(value=False, button_style='success', disabled=True, icon…"
      ]
     },
     "metadata": {},
     "output_type": "display_data"
    }
   ],
   "source": [
    "# create a pydantic model (or a json-schema) defining the fields of interest\n",
    "from pydantic import BaseModel, Field\n",
    "import pathlib\n",
    "import typing as ty\n",
    "\n",
    "\n",
    "class Sub(BaseModel):\n",
    "    a: str = \"a\"\n",
    "    b: int = 1\n",
    "\n",
    "\n",
    "class Example(BaseModel):\n",
    "    text: str = Field(default=\"Test\", description=\"This description is very important\")\n",
    "    inty: int = 1\n",
    "    sub: Sub\n",
    "    nu: ty.Optional[str] = None\n",
    "\n",
    "\n",
    "data = {\"text\": \"this is a value\"}\n",
    "ui = AutoUi(\n",
    "    schema=Example,\n",
    "    path=pathlib.Path(\"test.ui.json\"),\n",
    "    show_savebuttonbar=True,\n",
    ")\n",
    "display(ui)"
   ]
  },
  {
   "cell_type": "code",
   "execution_count": 5,
   "id": "7d96cce8-a0a8-46f3-872e-82ff874e1364",
   "metadata": {},
   "outputs": [
    {
     "name": "stdout",
     "output_type": "stream",
     "text": [
      "nullable found\n"
     ]
    },
    {
     "data": {
      "application/vnd.jupyter.widget-view+json": {
       "model_id": "0a3d49e59b024b0e92a18a5c5dab83dc",
       "version_major": 2,
       "version_minor": 0
      },
      "text/plain": [
       "AutoObjectForm(children=(HBox(children=(SaveButtonBar(children=(ToggleButton(value=False, button_style='succes…"
      ]
     },
     "execution_count": 5,
     "metadata": {},
     "output_type": "execute_result"
    }
   ],
   "source": [
    "from ipyautoui.autoobject import AutoObjectForm\n",
    "\n",
    "AutoObjectForm.from_jsonschema(schema=Example.model_json_schema())"
   ]
  },
  {
   "cell_type": "code",
   "execution_count": 6,
   "id": "e3aa730d-5796-442e-9dfc-6b82f7e114af",
   "metadata": {},
   "outputs": [
    {
     "ename": "NameError",
     "evalue": "name 'check_if_nullable' is not defined",
     "output_type": "error",
     "traceback": [
      "\u001b[0;31m---------------------------------------------------------------------------\u001b[0m",
      "\u001b[0;31mNameError\u001b[0m                                 Traceback (most recent call last)",
      "Cell \u001b[0;32mIn[6], line 13\u001b[0m\n\u001b[1;32m      8\u001b[0m             is_nullable \u001b[38;5;241m=\u001b[39m \u001b[38;5;28;01mTrue\u001b[39;00m\n\u001b[1;32m     10\u001b[0m     \u001b[38;5;28mself\u001b[39m\u001b[38;5;241m.\u001b[39mdisplay_bn_shownull \u001b[38;5;241m=\u001b[39m is_nullable\n\u001b[0;32m---> 13\u001b[0m check_if_nullable(ui)\n",
      "\u001b[0;31mNameError\u001b[0m: name 'check_if_nullable' is not defined"
     ]
    }
   ],
   "source": []
  },
  {
   "cell_type": "code",
   "execution_count": null,
   "id": "6217d66d-dd78-462f-861e-864b60168a7f",
   "metadata": {},
   "outputs": [],
   "source": [
    "# ui.show_null = False"
   ]
  },
  {
   "cell_type": "code",
   "execution_count": null,
   "id": "e1f990e7-ef47-48ca-9da3-c940a02ac5c1",
   "metadata": {
    "tags": []
   },
   "outputs": [],
   "source": [
    "from ipyautoui.basemodel import file\n",
    "\n",
    "file(Example(), pathlib.Path(\"test.json\"))"
   ]
  },
  {
   "cell_type": "markdown",
   "id": "9e97be5c",
   "metadata": {
    "tags": []
   },
   "source": [
    "### Writing to JSON"
   ]
  },
  {
   "cell_type": "markdown",
   "id": "c6d93fb4",
   "metadata": {},
   "source": [
    "Let's define the save location."
   ]
  },
  {
   "cell_type": "code",
   "execution_count": null,
   "id": "ce2e69e0",
   "metadata": {
    "tags": []
   },
   "outputs": [],
   "source": [
    "import pathlib\n",
    "\n",
    "save_path = pathlib.Path(\".\") / \"test.simpleaui.json\"\n",
    "print(f\"Save Location is: {save_path}\")"
   ]
  },
  {
   "cell_type": "code",
   "execution_count": null,
   "id": "b4c3a453",
   "metadata": {
    "tags": []
   },
   "outputs": [],
   "source": [
    "ui.file(path=save_path)\n",
    "AutoUiRenderer = AutoUi.create_autoui_renderer(schema=Example)\n",
    "\n",
    "ui_simple = AutoUiRenderer(path=save_path)\n",
    "\n",
    "\n",
    "def test_action():\n",
    "    print(\"done\")\n",
    "\n",
    "\n",
    "ui_simple.savebuttonbar.fns_onsave_add_action(test_action)\n",
    "ui_simple.show_savebuttonbar = True\n",
    "display(ui_simple)"
   ]
  },
  {
   "cell_type": "code",
   "execution_count": null,
   "id": "1d546f3e-1ce8-413e-96c5-50e3cfc3de49",
   "metadata": {},
   "outputs": [],
   "source": [
    "import typing as ty\n",
    "import ipywidgets as w\n",
    "\n",
    "\n",
    "class DataFrameCols(BaseModel):\n",
    "    string: str = Field(\"string\", json_schema_extra=dict(column_width=100))\n",
    "    integer: int = Field(1, json_schema_extra=dict(column_width=80))\n",
    "    floater: float = Field(3.1415, json_schema_extra=dict(column_width=70, global_decimal_places=3))\n",
    "    something_else: float = Field(324, json_schema_extra=dict(column_width=100))\n",
    "\n",
    "\n",
    "class TestDataFrame(BaseModel):\n",
    "    \"\"\"a description of TestDataFrame\"\"\"\n",
    "\n",
    "    dataframe: ty.List[DataFrameCols] = Field(json_schema_extra=dict(format=\"dataframe\"))"
   ]
  },
  {
   "cell_type": "code",
   "execution_count": null,
   "id": "01ff66c3-36e3-42b5-a0b1-942991b84b35",
   "metadata": {},
   "outputs": [],
   "source": [
    "auto_grid = AutoUi(schema=TestDataFrame, show_nested=True)\n",
    "display(auto_grid)"
   ]
  },
  {
   "cell_type": "code",
   "execution_count": null,
   "id": "213647db-a6ee-42e5-8afa-19a5336fe070",
   "metadata": {},
   "outputs": [],
   "source": [
    "auto_grid.value = {\n",
    "    \"dataframe\": [\n",
    "        {\n",
    "            \"string\": \"important string\",\n",
    "            \"integer\": 1,\n",
    "            \"floater\": 3.14,\n",
    "            \"something_else\": 324,\n",
    "        },\n",
    "        {\"string\": \"update\", \"integer\": 4, \"floater\": 3.12344, \"something_else\": 123},\n",
    "        {\"string\": \"evening\", \"integer\": 5, \"floater\": 3.14, \"something_else\": 235},\n",
    "        {\"string\": \"morning\", \"integer\": 5, \"floater\": 3.14, \"something_else\": 12},\n",
    "        {\"string\": \"number\", \"integer\": 3, \"floater\": 3.14, \"something_else\": 123},\n",
    "    ]\n",
    "}"
   ]
  },
  {
   "cell_type": "code",
   "execution_count": null,
   "id": "128c4dcd-33f0-4ea6-811b-577fb99a729d",
   "metadata": {
    "tags": []
   },
   "outputs": [],
   "source": [
    "from pydantic import BaseModel, Field\n",
    "from ipyautoui.custom.fileupload import AutoUploadPaths\n",
    "from ipyautoui.autoobject import AutoObject\n",
    "import pathlib\n",
    "\n",
    "\n",
    "class Test(BaseModel):\n",
    "    paths: list[pathlib.Path] = Field(\n",
    "        json_schema_extra=dict(autoui=\"ipyautoui.custom.fileupload.AutoUploadPaths\")\n",
    "    )\n",
    "    a: str\n",
    "\n",
    "    class Config:\n",
    "        schema_extra = {\n",
    "            \"json_schema_extra\": [\"ipyautoui.custom.fileupload.AutoUploadPaths\"]\n",
    "        }\n",
    "\n",
    "\n",
    "aui = AutoUi(Test)  # , nested_widgets=[AutoUploadPaths]\n",
    "aui"
   ]
  },
  {
   "cell_type": "code",
   "execution_count": null,
   "id": "29b39d9c-2a35-4c05-894c-3943b9166ca5",
   "metadata": {},
   "outputs": [],
   "source": [
    "from ipyautoui import AutoUi\n",
    "from ipyautoui.demo_schemas import NestedEditableGrid\n",
    "\n",
    "ui = AutoUi(NestedEditableGrid)\n",
    "ui"
   ]
  },
  {
   "cell_type": "code",
   "execution_count": null,
   "id": "6db190e6-2c5c-45a3-b014-c9522ca8f5a9",
   "metadata": {},
   "outputs": [],
   "source": []
  }
 ],
 "metadata": {
  "kernelspec": {
   "display_name": "Python 3 (ipykernel)",
   "language": "python",
   "name": "python3"
  },
  "language_info": {
   "codemirror_mode": {
    "name": "ipython",
    "version": 3
   },
   "file_extension": ".py",
   "mimetype": "text/x-python",
   "name": "python",
   "nbconvert_exporter": "python",
   "pygments_lexer": "ipython3",
   "version": "3.12.0"
  },
  "vscode": {
   "interpreter": {
    "hash": "2945cf1448f5962318cd8d4564004b5e22175de685c8c5e6d8925611c08f83bc"
   }
  }
 },
 "nbformat": 4,
 "nbformat_minor": 5
}
