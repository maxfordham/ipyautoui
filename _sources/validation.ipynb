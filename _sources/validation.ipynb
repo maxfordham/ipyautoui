{
 "cells": [
  {
   "cell_type": "code",
   "execution_count": 1,
   "id": "de1360fc-f524-4f7d-878a-202b762a000e",
   "metadata": {
    "tags": []
   },
   "outputs": [],
   "source": [
    "%run ../src/ipyautoui/__init__.py\n",
    "%load_ext lab_black"
   ]
  },
  {
   "cell_type": "code",
   "execution_count": 19,
   "id": "5a531914-e287-4ef1-9896-c51a2937b375",
   "metadata": {
    "tags": []
   },
   "outputs": [
    {
     "name": "stdout",
     "output_type": "stream",
     "text": [
      " NOT YET IMPLEMENTED\n"
     ]
    }
   ],
   "source": [
    "print(\" not yet implemented\".upper())"
   ]
  },
  {
   "cell_type": "markdown",
   "id": "170ab4fa-63f5-40ce-bcf6-1724caa0cac2",
   "metadata": {},
   "source": [
    "# Validation - NOTE:  NOT YET IMPLEMENTED\n",
    "\n",
    "- jsonschema validation occurs on-change by default (TODO: implement!)\n",
    "    - review https://github.com/pydantic/pydantic-core\n",
    "- the top-level pydantic model can also be validated on request (slows things down...?)\n",
    "    - possible to implement recursive validation with pydantic? "
   ]
  },
  {
   "cell_type": "code",
   "execution_count": 1,
   "id": "3a6be2ea-a222-4b35-b4ca-4e391781e3c2",
   "metadata": {
    "tags": []
   },
   "outputs": [
    {
     "ename": "ValidationError",
     "evalue": "'Invalid' is not of type 'number'\n\nFailed validating 'type' in schema['properties']['price']:\n    {'type': 'number'}\n\nOn instance['price']:\n    'Invalid'",
     "output_type": "error",
     "traceback": [
      "\u001b[0;31m---------------------------------------------------------------------------\u001b[0m",
      "\u001b[0;31mValidationError\u001b[0m                           Traceback (most recent call last)",
      "Cell \u001b[0;32mIn[1], line 15\u001b[0m\n\u001b[1;32m     12\u001b[0m \u001b[38;5;66;03m# If no exception is raised by validate(), the instance is valid.\u001b[39;00m\n\u001b[1;32m     13\u001b[0m validate(instance\u001b[38;5;241m=\u001b[39m{\u001b[38;5;124m\"\u001b[39m\u001b[38;5;124mname\u001b[39m\u001b[38;5;124m\"\u001b[39m : \u001b[38;5;124m\"\u001b[39m\u001b[38;5;124mEggs\u001b[39m\u001b[38;5;124m\"\u001b[39m, \u001b[38;5;124m\"\u001b[39m\u001b[38;5;124mprice\u001b[39m\u001b[38;5;124m\"\u001b[39m : \u001b[38;5;241m34.99\u001b[39m}, schema\u001b[38;5;241m=\u001b[39mschema)\n\u001b[0;32m---> 15\u001b[0m validate(\n\u001b[1;32m     16\u001b[0m     instance\u001b[38;5;241m=\u001b[39m{\u001b[38;5;124m\"\u001b[39m\u001b[38;5;124mname\u001b[39m\u001b[38;5;124m\"\u001b[39m : \u001b[38;5;124m\"\u001b[39m\u001b[38;5;124mEggs\u001b[39m\u001b[38;5;124m\"\u001b[39m, \u001b[38;5;124m\"\u001b[39m\u001b[38;5;124mprice\u001b[39m\u001b[38;5;124m\"\u001b[39m : \u001b[38;5;124m\"\u001b[39m\u001b[38;5;124mInvalid\u001b[39m\u001b[38;5;124m\"\u001b[39m}, schema\u001b[38;5;241m=\u001b[39mschema,\n\u001b[1;32m     17\u001b[0m )\n",
      "File \u001b[0;32m~/micromamba/envs/ipyautoui-dev/lib/python3.11/site-packages/jsonschema/validators.py:1121\u001b[0m, in \u001b[0;36mvalidate\u001b[0;34m(instance, schema, cls, *args, **kwargs)\u001b[0m\n\u001b[1;32m   1119\u001b[0m error \u001b[38;5;241m=\u001b[39m exceptions\u001b[38;5;241m.\u001b[39mbest_match(validator\u001b[38;5;241m.\u001b[39miter_errors(instance))\n\u001b[1;32m   1120\u001b[0m \u001b[38;5;28;01mif\u001b[39;00m error \u001b[38;5;129;01mis\u001b[39;00m \u001b[38;5;129;01mnot\u001b[39;00m \u001b[38;5;28;01mNone\u001b[39;00m:\n\u001b[0;32m-> 1121\u001b[0m     \u001b[38;5;28;01mraise\u001b[39;00m error\n",
      "\u001b[0;31mValidationError\u001b[0m: 'Invalid' is not of type 'number'\n\nFailed validating 'type' in schema['properties']['price']:\n    {'type': 'number'}\n\nOn instance['price']:\n    'Invalid'"
     ]
    }
   ],
   "source": [
    "from jsonschema import validate, Draft202012Validator, ErrorTree\n",
    "\n",
    "# A sample schema, like what we'd get from json.load()\n",
    "schema = {\n",
    "    \"type\" : \"object\",\n",
    "    \"properties\" : {\n",
    "        \"price\" : {\"type\" : \"number\"},\n",
    "        \"name\" : {\"type\" : \"string\"},\n",
    "    },\n",
    "}\n",
    "\n",
    "# If no exception is raised by validate(), the instance is valid.\n",
    "validate(instance={\"name\" : \"Eggs\", \"price\" : 34.99}, schema=schema)\n",
    "\n",
    "validate(\n",
    "    instance={\"name\" : \"Eggs\", \"price\" : \"Invalid\"}, schema=schema,\n",
    ")      "
   ]
  },
  {
   "cell_type": "code",
   "execution_count": 4,
   "id": "32b78cb3-7b1c-4fc7-bb9a-17cd51ae4d50",
   "metadata": {
    "tags": []
   },
   "outputs": [
    {
     "data": {
      "text/plain": [
       "[<ValidationError: '{} is not valid under any of the given schemas'>,\n",
       " <ValidationError: '3 is not valid under any of the given schemas'>,\n",
       " <ValidationError: \"'foo' is not valid under any of the given schemas\">]"
      ]
     },
     "execution_count": 4,
     "metadata": {},
     "output_type": "execute_result"
    }
   ],
   "source": [
    "schema = {\n",
    "    \"items\": {\n",
    "        \"anyOf\": [{\"type\": \"string\", \"maxLength\": 2}, {\"type\": \"integer\", \"minimum\": 5}]\n",
    "    }\n",
    "}\n",
    "instance = [{}, 3, \"foo\"]\n",
    "v = Draft202012Validator(schema)\n",
    "errors = sorted(v.iter_errors(instance), key=lambda e: e.path)\n",
    "errors"
   ]
  },
  {
   "cell_type": "code",
   "execution_count": null,
   "id": "b29c36bb-aba6-49c8-9185-08f876332da7",
   "metadata": {},
   "outputs": [],
   "source": []
  }
 ],
 "metadata": {
  "kernelspec": {
   "display_name": "Python 3 (ipykernel)",
   "language": "python",
   "name": "python3"
  },
  "language_info": {
   "codemirror_mode": {
    "name": "ipython",
    "version": 3
   },
   "file_extension": ".py",
   "mimetype": "text/x-python",
   "name": "python",
   "nbconvert_exporter": "python",
   "pygments_lexer": "ipython3",
   "version": "3.11.5"
  }
 },
 "nbformat": 4,
 "nbformat_minor": 5
}
