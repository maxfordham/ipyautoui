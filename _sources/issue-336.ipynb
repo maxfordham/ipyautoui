{
 "cells": [
  {
   "cell_type": "code",
   "execution_count": 2,
   "id": "7c72e4aa-c2c6-48f7-84b4-a90bc095ca4b",
   "metadata": {},
   "outputs": [
    {
     "data": {
      "application/vnd.jupyter.widget-view+json": {
       "model_id": "4b15c4b56c854d2499ebd75d45a5ea94",
       "version_major": 2,
       "version_minor": 0
      },
      "text/plain": [
       "FileChooser(path='/home/jovyan/ipyautoui/docs', filename='', title='', show_hidden=False, select_desc='Select'…"
      ]
     },
     "metadata": {},
     "output_type": "display_data"
    },
    {
     "name": "stdout",
     "output_type": "stream",
     "text": [
      "change['new']='dummy.txt'\n",
      "fc._value='dummy.txt'\n",
      "fc.selected_path='/home/jovyan/ipyautoui/docs'\n",
      "fc.selected_filename='dummy.txt'\n"
     ]
    }
   ],
   "source": [
    "from pathlib import Path\n",
    "from ipyautoui.custom import FileChooser\n",
    "\n",
    "# Make a file so that we can set the value of FileChooser\n",
    "p = Path(\"./dummy.txt\")\n",
    "p.touch()\n",
    "\n",
    "# Make a FileChooser\n",
    "fc = FileChooser()\n",
    "\n",
    "# Define an observer that just prints the state of the FileChooser\n",
    "def print_status(change):\n",
    "    print(f\"{change['new']=}\")\n",
    "    print(f\"{fc._value=}\")\n",
    "    print(f\"{fc.selected_path=}\")\n",
    "    print(f\"{fc.selected_filename=}\")\n",
    "\n",
    "display(fc)\n",
    "# Observe the _value traitlet\n",
    "fc.observe(print_status, \"_value\")\n",
    "\n",
    "# set the value\n",
    "fc.value = str(p)"
   ]
  }
 ],
 "metadata": {
  "kernelspec": {
   "display_name": "Python 3 (ipykernel)",
   "language": "python",
   "name": "python3"
  },
  "language_info": {
   "codemirror_mode": {
    "name": "ipython",
    "version": 3
   },
   "file_extension": ".py",
   "mimetype": "text/x-python",
   "name": "python",
   "nbconvert_exporter": "python",
   "pygments_lexer": "ipython3",
   "version": "3.12.3"
  }
 },
 "nbformat": 4,
 "nbformat_minor": 5
}
