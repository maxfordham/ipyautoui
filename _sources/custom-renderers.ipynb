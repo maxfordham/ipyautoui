{
 "cells": [
  {
   "cell_type": "markdown",
   "id": "7d0d6f45-af46-412d-bfc5-406edf2af8aa",
   "metadata": {},
   "source": [
    "# Custom Renderers"
   ]
  },
  {
   "cell_type": "markdown",
   "id": "bae51901-15d8-4e53-bf6f-f639593712c2",
   "metadata": {},
   "source": [
    "AutoUi is built using ipywidgets. It can be easily customised and extended... see ruleset in demo... \n",
    "More TBC"
   ]
  },
  {
   "cell_type": "code",
   "execution_count": null,
   "id": "db41d5bb-4bf2-45ff-9889-b4647873c580",
   "metadata": {},
   "outputs": [],
   "source": []
  }
 ],
 "metadata": {
  "kernelspec": {
   "display_name": "Python 3 (ipykernel)",
   "language": "python",
   "name": "python3"
  },
  "language_info": {
   "codemirror_mode": {
    "name": "ipython",
    "version": 3
   },
   "file_extension": ".py",
   "mimetype": "text/x-python",
   "name": "python",
   "nbconvert_exporter": "python",
   "pygments_lexer": "ipython3",
   "version": "3.9.13"
  }
 },
 "nbformat": 4,
 "nbformat_minor": 5
}
