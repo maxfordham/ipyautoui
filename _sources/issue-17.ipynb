{
 "cells": [
  {
   "cell_type": "code",
   "execution_count": 17,
   "id": "104f405e-c72a-4c6d-a808-32fb3a3307f9",
   "metadata": {},
   "outputs": [],
   "source": [
    "import typing as ty\n",
    "import pandas as pd\n",
    "from pydantic import BaseModel, RootModel, Field\n",
    "\n",
    "import ipyautoui.automapschema as asch\n",
    "from ipyautoui import AutoUi\n",
    "from ipyautoui.custom.autogrid import AutoGrid, GridSchema\n",
    "from ipyautoui.custom.editgrid import EditGrid\n",
    "from ipyautoui.custom.iterable import AutoArray\n",
    "from ipyautoui.autoobject import AutoObject"
   ]
  },
  {
   "cell_type": "code",
   "execution_count": 22,
   "id": "9e63844a-a11f-4fe9-b0be-8dd34e5df933",
   "metadata": {},
   "outputs": [
    {
     "data": {
      "application/vnd.jupyter.widget-view+json": {
       "model_id": "96d8fa3c98fb4565a12220cb3de41a95",
       "version_major": 2,
       "version_minor": 0
      },
      "text/plain": [
       "AutoArray(children=(VBox(children=(Button(button_style='success', icon='plus', layout=Layout(display='', width…"
      ]
     },
     "execution_count": 22,
     "metadata": {},
     "output_type": "execute_result"
    }
   ],
   "source": [
    "class TestListCol(BaseModel):\n",
    "    li_col: list[str] = [\"a\"]\n",
    "    stringy: str = \"as\"\n",
    "    num: int = 1\n",
    "\n",
    "class Test(RootModel):\n",
    "    root: list[TestListCol] = [TestListCol(li_col=[\"a\", \"b\"], stringy=\"asdfsadf\", num=3)]\n",
    "\n",
    "AutoArray.from_jsonschema(Test.model_json_schema())  # Defaults not being added"
   ]
  },
  {
   "cell_type": "code",
   "execution_count": 25,
   "id": "f3557480-0510-4a0c-a62c-b448f2b1bc87",
   "metadata": {},
   "outputs": [
    {
     "data": {
      "application/vnd.jupyter.widget-view+json": {
       "model_id": "3bed93561f30489f8f14b54ff6368085",
       "version_major": 2,
       "version_minor": 0
      },
      "text/plain": [
       "AutoObject(children=(VBox(children=(AutoBox(children=(HBox(children=(ToggleButton(value=False, description='sh…"
      ]
     },
     "execution_count": 25,
     "metadata": {},
     "output_type": "execute_result"
    }
   ],
   "source": [
    "class TestListCol(BaseModel):\n",
    "    li_col: list[str] = [\"a\"]\n",
    "    stringy: str = \"as\"\n",
    "    num: int = 1\n",
    "\n",
    "class Test(BaseModel):\n",
    "    li_test_list: list[TestListCol] = [TestListCol(li_col=[\"a\", \"b\"], stringy=\"asdfsadf\", num=3)]\n",
    "\n",
    "AutoObject.from_jsonschema(Test.model_json_schema())  # Defaults not being added"
   ]
  },
  {
   "cell_type": "code",
   "execution_count": 30,
   "id": "2bbaa6e7-d8cb-4e5c-b8c9-ef80f5c1b167",
   "metadata": {},
   "outputs": [],
   "source": [
    "class TestListCol(BaseModel):\n",
    "    li_col: list[str] = [\"a\"]\n",
    "    stringy: str = \"as\"\n",
    "    num: int = 1\n",
    "\n",
    "class Test(RootModel):\n",
    "    root: list[TestListCol] = Field([TestListCol(li_col=[\"a\", \"b\"], stringy=\"asdfsadf\", num=3)], format=\"dataframe\")"
   ]
  },
  {
   "cell_type": "code",
   "execution_count": 32,
   "id": "1c08888d-60f2-4e75-ba83-e98bc1d983a0",
   "metadata": {},
   "outputs": [
    {
     "data": {
      "application/vnd.jupyter.widget-view+json": {
       "model_id": "5f0b94474f0b46fb9b774c8018af007e",
       "version_major": 2,
       "version_minor": 0
      },
      "text/plain": [
       "EditGrid(children=(HBox(children=(HTML(value=''), HTML(value=''), HTML(value=''))), VBox(children=(CrudButtonB…"
      ]
     },
     "execution_count": 32,
     "metadata": {},
     "output_type": "execute_result"
    }
   ],
   "source": [
    "EditGrid(schema=Test)  # Currently works for dataframe format (with EditGrid). Default row is added from Test RootModel, and AutoObjectForm shows defaults from TestListCol "
   ]
  },
  {
   "cell_type": "code",
   "execution_count": null,
   "id": "aae53446-3b45-4b17-919a-5da9e2b0ea90",
   "metadata": {},
   "outputs": [],
   "source": []
  }
 ],
 "metadata": {
  "kernelspec": {
   "display_name": "Python 3 (ipykernel)",
   "language": "python",
   "name": "python3"
  },
  "language_info": {
   "codemirror_mode": {
    "name": "ipython",
    "version": 3
   },
   "file_extension": ".py",
   "mimetype": "text/x-python",
   "name": "python",
   "nbconvert_exporter": "python",
   "pygments_lexer": "ipython3",
   "version": "3.11.9"
  }
 },
 "nbformat": 4,
 "nbformat_minor": 5
}
