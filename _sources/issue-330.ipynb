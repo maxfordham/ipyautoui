{
 "cells": [
  {
   "cell_type": "code",
   "execution_count": 1,
   "id": "cfbfabaa-91a9-4299-bfcf-7238f5aaeacc",
   "metadata": {},
   "outputs": [],
   "source": [
    "# REF: https://github.com/maxfordham/ipyautoui/issues/330"
   ]
  },
  {
   "cell_type": "code",
   "execution_count": 2,
   "id": "102f805a-1724-4a84-83cf-2fafeda13a21",
   "metadata": {},
   "outputs": [],
   "source": [
    "%run __init__.py"
   ]
  },
  {
   "cell_type": "code",
   "execution_count": 3,
   "id": "02455a18-2f56-4f48-9fcf-23f2efe2a805",
   "metadata": {},
   "outputs": [],
   "source": [
    "from pydantic import BaseModel\n",
    "from ipyautoui.autoobject import AutoObject"
   ]
  },
  {
   "cell_type": "code",
   "execution_count": 4,
   "id": "6a2e8a4b-cc8a-4dde-8394-04934184f62f",
   "metadata": {},
   "outputs": [],
   "source": [
    "class Test(BaseModel):\n",
    "    text: str\n",
    "    number: float"
   ]
  },
  {
   "cell_type": "code",
   "execution_count": 5,
   "id": "23d40bbe-c6f2-40f1-a267-5cb80d60306f",
   "metadata": {},
   "outputs": [
    {
     "data": {
      "application/vnd.jupyter.widget-view+json": {
       "model_id": "86e97cc931a3444593086ed304ade763",
       "version_major": 2,
       "version_minor": 0
      },
      "text/plain": [
       "AutoObject(children=(VBox(children=(AutoBox(children=(HBox(children=(Text(value='text'), HBox(children=(HTML(v…"
      ]
     },
     "metadata": {},
     "output_type": "display_data"
    }
   ],
   "source": [
    "ui = AutoObject.from_jsonschema(Test.model_json_schema(), value={\"text\": \"text\"})\n",
    "display(ui)"
   ]
  },
  {
   "cell_type": "code",
   "execution_count": 6,
   "id": "8b6682d9-eea7-4b1c-b128-dfba70e98710",
   "metadata": {},
   "outputs": [],
   "source": [
    "ui.value = {\"number\": 4}"
   ]
  }
 ],
 "metadata": {
  "kernelspec": {
   "display_name": "Python 3 (ipykernel)",
   "language": "python",
   "name": "python3"
  },
  "language_info": {
   "codemirror_mode": {
    "name": "ipython",
    "version": 3
   },
   "file_extension": ".py",
   "mimetype": "text/x-python",
   "name": "python",
   "nbconvert_exporter": "python",
   "pygments_lexer": "ipython3",
   "version": "3.11.9"
  }
 },
 "nbformat": 4,
 "nbformat_minor": 5
}
