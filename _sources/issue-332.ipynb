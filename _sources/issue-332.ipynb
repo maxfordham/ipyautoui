{
 "cells": [
  {
   "cell_type": "code",
   "execution_count": 22,
   "id": "85eaed4e-12b4-4fec-8cd0-a183f356bf2f",
   "metadata": {},
   "outputs": [],
   "source": [
    "import typing as ty\n",
    "import pandas as pd\n",
    "from pydantic import BaseModel, RootModel, Field\n",
    "\n",
    "import ipyautoui.automapschema as asch\n",
    "from ipyautoui.custom.autogrid import AutoGrid, GridSchema\n",
    "from ipyautoui.custom.editgrid import EditGrid\n",
    "from ipyautoui.custom.iterable import AutoArrayForm\n",
    "from ipyautoui.autoobject import AutoObject"
   ]
  },
  {
   "cell_type": "code",
   "execution_count": 2,
   "id": "f8b9a2cb-69be-4c93-ae67-be336f115e26",
   "metadata": {},
   "outputs": [],
   "source": [
    "class Test(BaseModel):\n",
    "    text: str = \"\"\n",
    "    number: float\n",
    "\n",
    "\n",
    "class TestDataFrame(RootModel):\n",
    "    root: ty.List[Test] = Field(format=\"dataframe\")"
   ]
  },
  {
   "cell_type": "code",
   "execution_count": 30,
   "id": "7f09f74a-8a45-4f46-8168-0fa98b8e438e",
   "metadata": {},
   "outputs": [
    {
     "data": {
      "text/html": [
       "<div>\n",
       "<style scoped>\n",
       "    .dataframe tbody tr th:only-of-type {\n",
       "        vertical-align: middle;\n",
       "    }\n",
       "\n",
       "    .dataframe tbody tr th {\n",
       "        vertical-align: top;\n",
       "    }\n",
       "\n",
       "    .dataframe thead th {\n",
       "        text-align: right;\n",
       "    }\n",
       "</style>\n",
       "<table border=\"1\" class=\"dataframe\">\n",
       "  <thead>\n",
       "    <tr style=\"text-align: right;\">\n",
       "      <th>title</th>\n",
       "      <th>Text</th>\n",
       "      <th>Number</th>\n",
       "    </tr>\n",
       "  </thead>\n",
       "  <tbody>\n",
       "    <tr>\n",
       "      <th>0</th>\n",
       "      <td></td>\n",
       "      <td>2</td>\n",
       "    </tr>\n",
       "  </tbody>\n",
       "</table>\n",
       "</div>"
      ],
      "text/plain": [
       "title Text  Number\n",
       "0                2"
      ]
     },
     "execution_count": 30,
     "metadata": {},
     "output_type": "execute_result"
    }
   ],
   "source": [
    "model, schema = asch._init_model_schema(TestDataFrame)\n",
    "gridschema = GridSchema(schema)\n",
    "gridschema.coerce_data(pd.DataFrame([{\"number\": 2}]))"
   ]
  },
  {
   "cell_type": "code",
   "execution_count": null,
   "id": "a4a48ae0-5949-49e0-840c-15bd7e7bad55",
   "metadata": {},
   "outputs": [],
   "source": []
  }
 ],
 "metadata": {
  "kernelspec": {
   "display_name": "Python 3 (ipykernel)",
   "language": "python",
   "name": "python3"
  },
  "language_info": {
   "codemirror_mode": {
    "name": "ipython",
    "version": 3
   },
   "file_extension": ".py",
   "mimetype": "text/x-python",
   "name": "python",
   "nbconvert_exporter": "python",
   "pygments_lexer": "ipython3",
   "version": "3.11.9"
  }
 },
 "nbformat": 4,
 "nbformat_minor": 5
}
