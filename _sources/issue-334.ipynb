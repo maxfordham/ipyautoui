{
 "cells": [
  {
   "cell_type": "code",
   "execution_count": 12,
   "id": "d188b96e-ab73-4229-a25c-44a20e005cfa",
   "metadata": {},
   "outputs": [],
   "source": [
    "import typing as ty\n",
    "import pandas as pd\n",
    "from pydantic import BaseModel, RootModel, Field\n",
    "from ipyautoui.custom.autogrid import AutoGrid\n",
    "from ipyautoui.custom.editgrid import EditGrid, UiDelete"
   ]
  },
  {
   "cell_type": "code",
   "execution_count": 13,
   "id": "88b2ccf3-f733-4f2f-bc8b-cedc42069c1f",
   "metadata": {},
   "outputs": [
    {
     "data": {
      "application/vnd.jupyter.widget-view+json": {
       "model_id": "f43016cc551c4c7e8f8241bf1d5d767c",
       "version_major": 2,
       "version_minor": 0
      },
      "text/plain": [
       "AutoGrid(auto_fit_params={'area': 'all', 'padding': 30, 'numCols': None}, corner_renderer=None, default_render…"
      ]
     },
     "execution_count": 13,
     "metadata": {},
     "output_type": "execute_result"
    }
   ],
   "source": [
    "autogrid = AutoGrid()\n",
    "autogrid"
   ]
  },
  {
   "cell_type": "code",
   "execution_count": 14,
   "id": "7d08ed06-0348-43db-ad1b-d8c8a6173df3",
   "metadata": {},
   "outputs": [],
   "source": [
    "class DataFrameCols(BaseModel):\n",
    "    string: str = Field(\n",
    "        \"string\", json_schema_extra=dict(column_width=400, section=\"a\")\n",
    "    )\n",
    "\n",
    "\n",
    "class TestDataFrame(RootModel):\n",
    "    \"\"\"a description of TestDataFrame\"\"\"\n",
    "\n",
    "    root: ty.List[DataFrameCols] = Field(\n",
    "        json_schema_extra=dict(\n",
    "            format=\"dataframe\", datagrid_index_name=(\"section\", \"title\")\n",
    "        ),\n",
    "    )\n",
    "\n",
    "autogrid.update_from_schema(TestDataFrame, data=pd.DataFrame([{\"string\": \"Test\"}]*10))"
   ]
  },
  {
   "cell_type": "code",
   "execution_count": 15,
   "id": "fab6c20c-fa3e-4b93-8fc4-ab35dca6e905",
   "metadata": {},
   "outputs": [],
   "source": [
    "class TestDelete(UiDelete):\n",
    "    def __init__(self, *args, **kwargs):\n",
    "        super().__init__(*args, **kwargs)\n",
    "        self.message.value = (\n",
    "            \"⚠️<b>Are you sure you want to delete the following Types and Instances?</b>⚠️<br><i>Pressing the DELETE button will\"\n",
    "            \" permanently delete the selected Types and Instances!</i>\"\n",
    "        )\n",
    "HEADER_BACKGROUND_COLOUR = \"rgb(207, 212, 252)\"\n",
    "GRID_STYLE = {\"header_background_color\": HEADER_BACKGROUND_COLOUR}"
   ]
  },
  {
   "cell_type": "code",
   "execution_count": 16,
   "id": "c9099a68-9bef-4d2e-8461-a9a2ff128e2c",
   "metadata": {},
   "outputs": [
    {
     "data": {
      "application/vnd.jupyter.widget-view+json": {
       "model_id": "5a152483e80842179c9bacad94b6d437",
       "version_major": 2,
       "version_minor": 0
      },
      "text/plain": [
       "EditGrid(children=(HBox(children=(HTML(value=''), HTML(value=''), HTML(value=''))), VBox(children=(CrudButtonB…"
      ]
     },
     "metadata": {},
     "output_type": "display_data"
    }
   ],
   "source": [
    "editgrid = EditGrid(ui_delete=TestDelete, grid_style=GRID_STYLE)\n",
    "display(editgrid)"
   ]
  },
  {
   "cell_type": "code",
   "execution_count": 17,
   "id": "206e641c-43b9-4951-89b8-b0494623000d",
   "metadata": {},
   "outputs": [],
   "source": [
    "class DataFrameCols(BaseModel):\n",
    "    string: str = Field(\n",
    "        \"string\", json_schema_extra=dict(column_width=400, section=\"a\")\n",
    "    )\n",
    "\n",
    "\n",
    "class TestDataFrame(RootModel):\n",
    "    \"\"\"a description of TestDataFrame\"\"\"\n",
    "\n",
    "    root: ty.List[DataFrameCols] = Field(\n",
    "        json_schema_extra=dict(\n",
    "            format=\"dataframe\", datagrid_index_name=(\"section\", \"title\")\n",
    "        ),\n",
    "    )\n",
    "editgrid.update_from_schema(TestDataFrame, value=[{\"string\": \"Test\"}]*10, ui_delete=TestDelete)"
   ]
  },
  {
   "cell_type": "code",
   "execution_count": 18,
   "id": "5a3b2389-81a3-4606-a390-7ecf12dc49d7",
   "metadata": {},
   "outputs": [],
   "source": [
    "class DataFrameCols(BaseModel):\n",
    "    integer: int = Field(\n",
    "        10, json_schema_extra=dict(column_width=400, section=\"a\")\n",
    "    )\n",
    "\n",
    "\n",
    "\n",
    "class TestDataFrame(RootModel):\n",
    "    \"\"\"a description of TestDataFrame\"\"\"\n",
    "\n",
    "    root: ty.List[DataFrameCols] = Field(\n",
    "        json_schema_extra=dict(\n",
    "            format=\"dataframe\", datagrid_index_name=(\"section\", \"title\")\n",
    "        ),\n",
    "    )\n",
    "editgrid.update_from_schema(TestDataFrame)"
   ]
  },
  {
   "cell_type": "code",
   "execution_count": null,
   "id": "91c4deda-24a6-4a48-93c0-0d9118f01dc7",
   "metadata": {},
   "outputs": [],
   "source": []
  }
 ],
 "metadata": {
  "kernelspec": {
   "display_name": "Python 3 (ipykernel)",
   "language": "python",
   "name": "python3"
  },
  "language_info": {
   "codemirror_mode": {
    "name": "ipython",
    "version": 3
   },
   "file_extension": ".py",
   "mimetype": "text/x-python",
   "name": "python",
   "nbconvert_exporter": "python",
   "pygments_lexer": "ipython3",
   "version": "3.11.9"
  }
 },
 "nbformat": 4,
 "nbformat_minor": 5
}
